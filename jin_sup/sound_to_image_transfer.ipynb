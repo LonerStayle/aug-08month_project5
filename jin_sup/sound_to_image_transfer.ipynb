{
 "cells": [
  {
   "cell_type": "markdown",
   "id": "f2f03d10",
   "metadata": {},
   "source": [
    "# 사운드 파일을 이미지로 변환"
   ]
  },
  {
   "cell_type": "code",
   "execution_count": 4,
   "id": "3114c3cb",
   "metadata": {},
   "outputs": [
    {
     "name": "stdout",
     "output_type": "stream",
     "text": [
      "총 wav 파일 개수: 3\n"
     ]
    }
   ],
   "source": [
    "import glob\n",
    "\n",
    "root_folder = r\"C:\\PythonProject\\aug-08month_project5\\jin_sup\\my_test\"\n",
    "wav_files = glob.glob(root_folder + \"/**/*.m4a\", recursive=True)\n",
    "print(\"총 wav 파일 개수:\", len(wav_files))\n"
   ]
  },
  {
   "cell_type": "code",
   "execution_count": 5,
   "id": "8f3f5164",
   "metadata": {},
   "outputs": [
    {
     "name": "stderr",
     "output_type": "stream",
     "text": [
      "C:\\Users\\user\\AppData\\Local\\Temp\\ipykernel_16444\\3111795320.py:5: UserWarning: PySoundFile failed. Trying audioread instead.\n",
      "  temp_y, sr =librosa.load(wav, sr=SoundVariable.HZ)\n",
      "c:\\PythonProject\\aug-08month_project5\\.venv\\lib\\site-packages\\librosa\\core\\audio.py:184: FutureWarning: librosa.core.audio.__audioread_load\n",
      "\tDeprecated as of librosa version 0.10.0.\n",
      "\tIt will be removed in librosa version 1.0.\n",
      "  y, sr_native = __audioread_load(path, offset, duration, dtype)\n"
     ]
    },
    {
     "name": "stdout",
     "output_type": "stream",
     "text": [
      "3\n"
     ]
    },
    {
     "name": "stderr",
     "output_type": "stream",
     "text": [
      "C:\\Users\\user\\AppData\\Local\\Temp\\ipykernel_16444\\3111795320.py:5: UserWarning: PySoundFile failed. Trying audioread instead.\n",
      "  temp_y, sr =librosa.load(wav, sr=SoundVariable.HZ)\n",
      "c:\\PythonProject\\aug-08month_project5\\.venv\\lib\\site-packages\\librosa\\core\\audio.py:184: FutureWarning: librosa.core.audio.__audioread_load\n",
      "\tDeprecated as of librosa version 0.10.0.\n",
      "\tIt will be removed in librosa version 1.0.\n",
      "  y, sr_native = __audioread_load(path, offset, duration, dtype)\n"
     ]
    }
   ],
   "source": [
    "import librosa\n",
    "from SoundVariable import SoundVariable\n",
    "muzics = [] \n",
    "for wav in wav_files:\n",
    "    temp_y, sr =librosa.load(wav, sr=SoundVariable.HZ)\n",
    "    # muzics.append({\"y\": temp_y, \"sr\":sr})\n",
    "    y, _ = librosa.effects.trim(temp_y, top_db=SoundVariable.TOP_DB)\n",
    "    muzics.append({\"y\": y, \"sr\":sr, \"path\":wav})\n",
    "    \n",
    "print(len(muzics))"
   ]
  },
  {
   "cell_type": "code",
   "execution_count": 6,
   "id": "566ec639",
   "metadata": {},
   "outputs": [
    {
     "name": "stdout",
     "output_type": "stream",
     "text": [
      "우울증 테스트\n",
      "C:\\PythonProject\\aug-08month_project5\\jin_sup\\my_test\\우울증 테스트_mel.png\n",
      "우울증테스트2\n",
      "C:\\PythonProject\\aug-08month_project5\\jin_sup\\my_test\\우울증테스트2_mel.png\n",
      "우울증테스트3\n",
      "C:\\PythonProject\\aug-08month_project5\\jin_sup\\my_test\\우울증테스트3_mel.png\n"
     ]
    }
   ],
   "source": [
    "import matplotlib.pyplot as plt\n",
    "import os\n",
    "import numpy as np\n",
    "\n",
    "for muzic in muzics:\n",
    "    y = muzic[\"y\"]\n",
    "    sr = muzic[\"sr\"]\n",
    "    path = muzic[\"path\"]\n",
    "\n",
    "    # Mel-spectrogram 계산\n",
    "    S = librosa.feature.melspectrogram(y=y, sr=sr, n_mels=SoundVariable.N_MELS, fmax=SoundVariable.F_MAX)\n",
    "    S_dB = librosa.power_to_db(S, ref=np.max)\n",
    "\n",
    "    # 파일명만 추출 후 저장 경로 지정\n",
    "    base_name = os.path.splitext(os.path.basename(muzic[\"path\"]))[0]\n",
    "    save_path = os.path.join('C:\\\\PythonProject\\\\aug-08month_project5\\\\jin_sup\\\\my_test', f\"{base_name}_mel.png\")\n",
    "\n",
    "    plt.figure(figsize=(SoundVariable.FIG_SIZE_W, SoundVariable.FIG_SIZE_H))\n",
    "    librosa.display.specshow(S_dB, sr=sr, fmax=SoundVariable.F_MAX)\n",
    "\n",
    "    # 저장 및 닫기\n",
    "    plt.savefig(save_path)\n",
    "\n",
    "    print(base_name)\n",
    "    print(save_path)\n",
    "    plt.close()"
   ]
  },
  {
   "cell_type": "code",
   "execution_count": null,
   "id": "c8cd5f94",
   "metadata": {},
   "outputs": [],
   "source": []
  }
 ],
 "metadata": {
  "kernelspec": {
   "display_name": "aug-08month_project5",
   "language": "python",
   "name": "python3"
  },
  "language_info": {
   "codemirror_mode": {
    "name": "ipython",
    "version": 3
   },
   "file_extension": ".py",
   "mimetype": "text/x-python",
   "name": "python",
   "nbconvert_exporter": "python",
   "pygments_lexer": "ipython3",
   "version": "3.10.18"
  }
 },
 "nbformat": 4,
 "nbformat_minor": 5
}
