{
 "cells": [
  {
   "cell_type": "markdown",
   "id": "f2f03d10",
   "metadata": {},
   "source": [
    "# 사운드 파일을 이미지로 변환"
   ]
  },
  {
   "cell_type": "code",
   "execution_count": 5,
   "id": "3114c3cb",
   "metadata": {},
   "outputs": [
    {
     "name": "stdout",
     "output_type": "stream",
     "text": [
      "총 wav 파일 개수: 10351\n"
     ]
    }
   ],
   "source": [
    "# import glob\n",
    "\n",
    "# root_folder = r\"C:\\PythonProject\\aug-08month_project5\\jin_sup\\my_test\"\n",
    "# wav_files = glob.glob(root_folder + \"/**/*.m4a\", recursive=True)\n",
    "# print(\"총 wav 파일 개수:\", len(wav_files))\n",
    "\n",
    "import glob\n",
    "root_folder = r\"C:\\\\PythonProject\\\\aug-08month_project5\\\\jin_sup\\\\audios\"\n",
    "wav_files = glob.glob(root_folder + \"/**/*.wav\", recursive=True)\n",
    "print(\"총 wav 파일 개수:\", len(wav_files))"
   ]
  },
  {
   "cell_type": "code",
   "execution_count": 6,
   "id": "36629375",
   "metadata": {},
   "outputs": [],
   "source": [
    "# import numpy as np\n",
    "# from SoundVariable import SoundVariable\n",
    "# HOP_LENGTH = 256  \n",
    "# T_TARGET_SEC = 8.0\n",
    "# FRAMES_PER_SEC = SoundVariable.HZ / HOP_LENGTH\n",
    "# T_TARGET = int(round(T_TARGET_SEC * FRAMES_PER_SEC))\n",
    "\n",
    "\n",
    "# def fix_time_dim(S_db, T_target):\n",
    "#     n_mels, t = S_db.shape\n",
    "#     if t == T_target:\n",
    "#         return S_db\n",
    "#     if t < T_target:\n",
    "#         pad_val = S_db.min()  # dB 스케일: 무음에 가깝게 패딩\n",
    "#         pad = np.full((n_mels, T_target - t), pad_val, dtype=S_db.dtype)\n",
    "#         return np.hstack([S_db, pad])          # 짧으면 패딩\n",
    "#     else:\n",
    "#         start = (t - T_target) // 2\n",
    "#         return S_db[:, start:start + T_target] # 길면 중앙 크롭"
   ]
  },
  {
   "cell_type": "code",
   "execution_count": null,
   "id": "8f3f5164",
   "metadata": {},
   "outputs": [
    {
     "name": "stdout",
     "output_type": "stream",
     "text": [
      "10351\n"
     ]
    }
   ],
   "source": [
    "import librosa\n",
    "from jin_sup.GlobalVariable import SoundVariable\n",
    "muzics = [] \n",
    "for wav in wav_files:\n",
    "    temp_y, sr =librosa.load(wav, sr=SoundVariable.HZ)\n",
    "    y, _ = librosa.effects.trim(temp_y, top_db=SoundVariable.TOP_DB)\n",
    "    muzics.append({\"y\": y, \"sr\":sr, \"path\":wav})\n",
    "    \n",
    "print(len(muzics))"
   ]
  },
  {
   "cell_type": "code",
   "execution_count": 13,
   "id": "3ed2bf82",
   "metadata": {},
   "outputs": [
    {
     "data": {
      "text/plain": [
       "<matplotlib.collections.QuadMesh at 0x1c75a1dc1c0>"
      ]
     },
     "execution_count": 13,
     "metadata": {},
     "output_type": "execute_result"
    },
    {
     "data": {
      "image/png": "[encoded data removed]",
      "text/plain": [
       "<Figure size 400x200 with 1 Axes>"
      ]
     },
     "metadata": {},
     "output_type": "display_data"
    }
   ],
   "source": [
    "import matplotlib.pyplot as plt\n",
    "import numpy as np\n",
    "S = librosa.feature.melspectrogram(y=y, sr=sr, n_mels=SoundVariable.N_MELS, fmax=SoundVariable.F_MAX)\n",
    "S_dB = librosa.power_to_db(S, ref=np.max)\n",
    "\n",
    "plt.figure(figsize=(4, 2))\n",
    "librosa.display.specshow(S_dB, sr=sr)"
   ]
  },
  {
   "cell_type": "code",
   "execution_count": null,
   "id": "566ec639",
   "metadata": {},
   "outputs": [
    {
     "name": "stdout",
     "output_type": "stream",
     "text": [
      "우울증 테스트\n",
      "C:\\PythonProject\\aug-08month_project5\\jin_sup\\my_test\\우울증 테스트_mel.png\n",
      "우울증테스트2\n",
      "C:\\PythonProject\\aug-08month_project5\\jin_sup\\my_test\\우울증테스트2_mel.png\n",
      "우울증테스트3\n",
      "C:\\PythonProject\\aug-08month_project5\\jin_sup\\my_test\\우울증테스트3_mel.png\n"
     ]
    }
   ],
   "source": [
    "# import matplotlib.pyplot as plt\n",
    "# import os\n",
    "# import numpy as np\n",
    "\n",
    "# for muzic in muzics:\n",
    "#     y = muzic[\"y\"]\n",
    "#     sr = muzic[\"sr\"]\n",
    "#     path = muzic[\"path\"]\n",
    "\n",
    "#     # Mel-spectrogram 계산\n",
    "#     S = librosa.feature.melspectrogram(y=y, sr=sr, n_mels=SoundVariable.N_MELS, fmax=SoundVariable.F_MAX)\n",
    "#     S_dB = librosa.power_to_db(S, ref=np.max)\n",
    "#     # S_dB = fix_time_dim(S_dB, T_TARGET)   \n",
    "\n",
    "#     # 파일명만 추출 후 저장 경로 지정\n",
    "#     base_name = os.path.splitext(os.path.basename(muzic[\"path\"]))[0]\n",
    "#     # save_path = os.path.join('C:\\\\PythonProject\\\\aug-08month_project5\\\\jin_sup\\\\my_test', f\"{base_name}_mel.png\")\n",
    "#     save_path = os.path.join('C:\\\\PythonProject\\\\aug-08month_project5\\\\jin_sup\\\\audios', f\"{base_name}_mel.png\")\n",
    "\n",
    "#     plt.figure(figsize=(SoundVariable.FIG_SIZE_W, SoundVariable.FIG_SIZE_H))\n",
    "#     librosa.display.specshow(S_dB, sr=sr, fmax=SoundVariable.F_MAX)\n",
    "\n",
    "#     # 저장 및 닫기\n",
    "#     plt.savefig(save_path)\n",
    "\n",
    "#     print(base_name)\n",
    "#     print(save_path)\n",
    "#     plt.close()"
   ]
  },
  {
   "cell_type": "code",
   "execution_count": null,
   "id": "c8cd5f94",
   "metadata": {},
   "outputs": [],
   "source": []
  }
 ],
 "metadata": {
  "kernelspec": {
   "display_name": "aug-08month_project5",
   "language": "python",
   "name": "python3"
  },
  "language_info": {
   "codemirror_mode": {
    "name": "ipython",
    "version": 3
   },
   "file_extension": ".py",
   "mimetype": "text/x-python",
   "name": "python",
   "nbconvert_exporter": "python",
   "pygments_lexer": "ipython3",
   "version": "3.10.18"
  }
 },
 "nbformat": 4,
 "nbformat_minor": 5
}
