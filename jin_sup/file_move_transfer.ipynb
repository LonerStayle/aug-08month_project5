{
 "cells": [
  {
   "cell_type": "markdown",
   "id": "28209bc1",
   "metadata": {},
   "source": [
    "# 비디오 파일 전체 음성파일로 변환 "
   ]
  },
  {
   "cell_type": "code",
   "execution_count": null,
   "id": "a0c6a897",
   "metadata": {},
   "outputs": [],
   "source": [
    "# import os\n",
    "# import subprocess\n",
    "\n",
    "# root_folder = \"data\"\n",
    "# output_root = \"audios\"\n",
    "# os.makedirs(output_root, exist_ok=True)\n",
    "\n",
    "# for dirpath, _, filenames in os.walk(root_folder):\n",
    "#     if \"movie\" in dirpath:\n",
    "#         for file in filenames:\n",
    "#             if file.endswith(\".m2ts\"):\n",
    "#                 input_path = os.path.join(dirpath,file)\n",
    "                \n",
    "#                 relative_path = os.path.relpath(dirpath, root_folder)\n",
    "#                 output_dir = os.path.join(output_root, relative_path)\n",
    "#                 os.makedirs(output_dir,exist_ok = True)\n",
    "\n",
    "#                 output_path = os.path.join(output_dir, os.path.splitext(file)[0] + \".wav\")\n",
    "#                 result = subprocess.run([\n",
    "#                     r\"C:\\ffmpeg\\bin\\ffmpeg.exe\",\n",
    "#                     \"-i\", input_path,\n",
    "#                     \"-vn\", \"-acodec\", \"pcm_s16le\", \"-ar\", \"16000\", \"-ac\", \"1\",\n",
    "#                     output_path\n",
    "#                 ], capture_output=True, text=True)\n",
    "                \n",
    "#                 print(\"stdout:\", result.stdout)\n",
    "#                 print(\"stderr:\", result.stderr)\n"
   ]
  },
  {
   "cell_type": "markdown",
   "id": "0407c345",
   "metadata": {},
   "source": [
    "# 이미지 파일 복사 "
   ]
  },
  {
   "cell_type": "code",
   "execution_count": null,
   "id": "b570ca3e",
   "metadata": {},
   "outputs": [],
   "source": [
    "\n",
    "# import os\n",
    "# import subprocess\n",
    "# import shutil\n",
    "\n",
    "# root_folder = \"data\"\n",
    "# output_root = \"images\"\n",
    "\n",
    "# os.makedirs(output_root, exist_ok=True)\n",
    "\n",
    "# for dirpath, _, filenames in os.walk(root_folder):\n",
    "#     if \"picture\" in dirpath:\n",
    "#         for file in filenames:\n",
    "#             if file.endswith(\".JPG\"):\n",
    "#                 input_path = os.path.join(dirpath,file)\n",
    "#                 relative_path = os.path.relpath(dirpath, root_folder)\n",
    "#                 print(input_path)\n",
    "#                 output_dir = os.path.join(output_root, relative_path)\n",
    "\n",
    "#                 os.makedirs(output_dir,exist_ok = True)\n",
    "#                 output_path = os.path.join(output_dir, file)\n",
    "#                 shutil.copy2(input_path, output_path)\n",
    "                \n",
    "#                 print(\"입력:\", input_path)\n",
    "#                 print(\"출력:\", output_path)"
   ]
  }
 ],
 "metadata": {
  "kernelspec": {
   "display_name": "aug-project5",
   "language": "python",
   "name": "python3"
  },
  "language_info": {
   "codemirror_mode": {
    "name": "ipython",
    "version": 3
   },
   "file_extension": ".py",
   "mimetype": "text/x-python",
   "name": "python",
   "nbconvert_exporter": "python",
   "pygments_lexer": "ipython3",
   "version": "3.10.18"
  }
 },
 "nbformat": 4,
 "nbformat_minor": 5
}
