{
 "cells": [
  {
   "cell_type": "code",
   "execution_count": null,
   "id": "3b68c804",
   "metadata": {},
   "outputs": [],
   "source": [
    "import torch\n",
    "from BuildModel import BuildModel\n",
    "from ModelType import ModelType\n",
    "import torch\n",
    "import torchvision.models as M\n",
    "\n",
    "\n",
    "y_true, y_pred = [], []\n",
    "checkpoint  = torch.load(\"C:\\\\PythonProject\\\\aug-08month_project5\\\\jin_sup\\\\model\\\\model_ResNet18_Weights.IMAGENET1K_V1.pth\", map_location=\"cpu\")\n",
    "\n",
    "device = \"cuda\" if torch.cuda.is_available() else \"cpu\"\n",
    "buildModel = BuildModel(ModelType.CONVNEXT_TINY, 7, M.ConvNeXt_Tiny_Weights.IMAGENET1K_V1)\n",
    "model = buildModel.model\n",
    "model.load_state_dict(checkpoint)\n",
    "model.to(device)\n",
    "\n",
    "model.eval()\n",
    "# with torch.no_grad():\n",
    "#     for train, label in X_test_dl:\n",
    "#         train, label = train.to(device), label.to(device)\n",
    "\n",
    "#         logits = model(train)    \n",
    "#         pred = logits.argmax(dim=1)        \n",
    "\n",
    "\n",
    "#         y_true.extend(label.cpu().tolist())\n",
    "#         y_pred.extend(pred.cpu().tolist())\n",
    "\n",
    "# f1_macro = f1_score(y_true, y_pred, average=\"macro\")   # 클래스별 f1을 평균\n",
    "# f1_micro = f1_score(y_true, y_pred, average=\"micro\")   # 전체 샘플 기준 평균\n",
    "# f1_weighted = f1_score(y_true, y_pred, average=\"weighted\")  # 클래스 비율 고려\n",
    "\n",
    "# print(\"F1(macro):\", f1_macro)\n",
    "# print(\"F1(micro):\", f1_micro)\n",
    "# print(\"F1(weighted):\", f1_weighted)\n",
    "\n",
    "\n",
    "# print(classification_report(y_true, y_pred, target_names=CLASSES, digits=4))"
   ]
  }
 ],
 "metadata": {
  "language_info": {
   "name": "python"
  }
 },
 "nbformat": 4,
 "nbformat_minor": 5
}
