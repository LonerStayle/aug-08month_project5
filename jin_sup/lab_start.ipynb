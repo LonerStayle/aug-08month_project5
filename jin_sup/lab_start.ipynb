{
 "cells": [
  {
   "cell_type": "markdown",
   "id": "e37596ee",
   "metadata": {},
   "source": [
    "### 1) 모델 세팅, 데이터 세팅, 함수 세팅"
   ]
  },
  {
   "cell_type": "code",
   "execution_count": 5,
   "id": "9531db22",
   "metadata": {},
   "outputs": [
    {
     "name": "stderr",
     "output_type": "stream",
     "text": [
      "c:\\PythonProject\\aug-08month_project5\\.venv\\lib\\site-packages\\torchvision\\models\\_utils.py:135: UserWarning: Using 'weights' as positional parameter(s) is deprecated since 0.13 and may be removed in the future. Please use keyword parameter(s) instead.\n",
      "  warnings.warn(\n"
     ]
    }
   ],
   "source": [
    "import re\n",
    "import ntpath \n",
    "from BuildModel import BuildModel\n",
    "from ModelType import ModelType\n",
    "import torch\n",
    "\n",
    "RANGES = [\n",
    "    ((1, 50),   \"Happiness\"),\n",
    "    ((51, 100), \"Surprise\"),\n",
    "    ((101,150), \"Neutral\"),\n",
    "    ((151,200), \"Fear\"),\n",
    "    ((201,250), \"Disgust\"),\n",
    "    ((251,300), \"Anger\"),\n",
    "    ((301,350), \"Sadness\"),\n",
    "]\n",
    "CLASSES = list(map(lambda x: x[1], RANGES))\n",
    "label2idx = {name:i  for i,name in enumerate(CLASSES)}\n",
    "\n",
    "device = \"cuda\" if torch.cuda.is_available() else \"cpu\"\n",
    "model = BuildModel(ModelType.CONVNEXT_SMALL,len(RANGES)).model\n",
    "model.to(device)\n",
    "\n",
    "\n",
    "def score_to_label(score:int):\n",
    "    for (low,high), label in RANGES:\n",
    "        if low <= score <= high: \n",
    "            return label\n",
    "\n",
    "def parse_label_from_name(path:str):\n",
    "    stem = ntpath.splitext(ntpath.basename(path))[0]\n",
    "    m = re.match(r'^\\d+-(\\d+)_mel$',stem)\n",
    "    return int(m.group(1))\n",
    "\n",
    "def parse_label_idx(path: str) -> int:\n",
    "    score = parse_label_from_name(path)\n",
    "    name  = score_to_label(score)\n",
    "    return label2idx[name]"
   ]
  },
  {
   "cell_type": "markdown",
   "id": "df5d1eac",
   "metadata": {},
   "source": [
    "### 2) 이미지 전처리"
   ]
  },
  {
   "cell_type": "code",
   "execution_count": 6,
   "id": "7acc2086",
   "metadata": {},
   "outputs": [],
   "source": [
    "from torchvision import transforms as T\n",
    "from torchvision.models import ConvNeXt_Small_Weights\n",
    "preprocess = ConvNeXt_Small_Weights.IMAGENET1K_V1.transforms()\n",
    "\n",
    "# 멜스펙 1채널 -> 3채널\n",
    "train_tf = T.Compose([\n",
    "    T.Grayscale(3),  \n",
    "    preprocess,                          \n",
    "])\n",
    "test_tf = T.Compose([\n",
    "    T.Grayscale(3),\n",
    "    preprocess,\n",
    "])"
   ]
  },
  {
   "cell_type": "markdown",
   "id": "bc325f9e",
   "metadata": {},
   "source": [
    "### 3) 학습, 검증 데이터 분류"
   ]
  },
  {
   "cell_type": "code",
   "execution_count": 3,
   "id": "0020e538",
   "metadata": {},
   "outputs": [],
   "source": [
    "from sklearn.model_selection import train_test_split\n",
    "from torch.utils.data import Dataset, DataLoader\n",
    "from pathlib import Path\n",
    "\n",
    "ROOT = \"C:\\\\PythonProject\\\\aug-08month_project5\\\\jin_sup\\\\mel_image\"\n",
    "all_full_paths = sorted([str(p) for p in Path(ROOT).rglob(\"*.png\")])\n",
    "y_all = list(map(parse_label_idx, all_full_paths))\n",
    "\n",
    "X_train, X_test, y_train, y_test = train_test_split(\n",
    "    all_full_paths, y_all, test_size=0.2, stratify=y_all, random_state=42\n",
    ")"
   ]
  },
  {
   "cell_type": "markdown",
   "id": "b7fdb61c",
   "metadata": {},
   "source": [
    "### 4) 배치 및 전처리 적용"
   ]
  },
  {
   "cell_type": "code",
   "execution_count": 11,
   "id": "71982f09",
   "metadata": {},
   "outputs": [],
   "source": [
    "from PIL import Image\n",
    "class MelSpecImageDataset(Dataset):\n",
    "    def __init__(self, paths, transform):\n",
    "        self.paths = list(paths)\n",
    "        self.transform = transform\n",
    "    def __len__(self): return len(self.paths)\n",
    "    def __getitem__(self, i):\n",
    "        p = self.paths[i]\n",
    "        y = parse_label_idx(p)\n",
    "        img = Image.open(p).convert(\"RGB\")\n",
    "        x = self.transform(img)\n",
    "        return x, y"
   ]
  },
  {
   "cell_type": "code",
   "execution_count": 12,
   "id": "61d0822d",
   "metadata": {},
   "outputs": [],
   "source": [
    "X_train_ds = MelSpecImageDataset(X_train, train_tf)\n",
    "X_test_ds = MelSpecImageDataset(X_test, test_tf)\n",
    "\n",
    "BATCH_SIZE = 32\n",
    "NUM_WORKERS = 4\n",
    "X_train_dl = DataLoader(\n",
    "    X_train_ds,\n",
    "    batch_size=BATCH_SIZE,\n",
    "    shuffle=True,\n",
    "    num_workers=NUM_WORKERS,\n",
    "    pin_memory=True,\n",
    ")\n",
    "\n",
    "X_test_dl = DataLoader(\n",
    "    X_test_ds,\n",
    "    batch_size=BATCH_SIZE,\n",
    "    shuffle=False,\n",
    "    num_workers=NUM_WORKERS,\n",
    "    pin_memory=True,\n",
    ")"
   ]
  },
  {
   "cell_type": "markdown",
   "id": "d4053827",
   "metadata": {},
   "source": [
    "### 5) 모델 학습 및 텐서 보드"
   ]
  },
  {
   "cell_type": "code",
   "execution_count": 16,
   "id": "6109c606",
   "metadata": {},
   "outputs": [
    {
     "name": "stdout",
     "output_type": "stream",
     "text": [
      "False\n",
      "2.8.0+cpu\n"
     ]
    }
   ],
   "source": [
    "import torch.optim as optim\n",
    "from torch.cuda.amp import autocast, GradScaler\n",
    "import torch.nn as nn\n",
    "from torch import amp\n",
    "\n",
    "criterion = nn.CrossEntropyLoss()\n",
    "optimz = optim.AdamW(model.parameters(), lr=1e-4, weight_decay=1e-4)\n",
    "import torch\n",
    "print(torch.cuda.is_available())   # False 라고 나오면 GPU 안잡힘\n",
    "print(torch.__version__)           # torch 버전 확인\n"
   ]
  },
  {
   "cell_type": "code",
   "execution_count": null,
   "id": "4d485a69",
   "metadata": {},
   "outputs": [
    {
     "name": "stderr",
     "output_type": "stream",
     "text": [
      "c:\\PythonProject\\aug-08month_project5\\.venv\\lib\\site-packages\\torch\\amp\\grad_scaler.py:136: UserWarning: torch.cuda.amp.GradScaler is enabled, but CUDA is not available.  Disabling.\n",
      "  warnings.warn(\n",
      "  0%|          | 0/65 [00:00<?, ?it/s]c:\\PythonProject\\aug-08month_project5\\.venv\\lib\\site-packages\\torch\\utils\\data\\dataloader.py:666: UserWarning: 'pin_memory' argument is set as true but no accelerator is found, then device pinned memory won't be used.\n",
      "  warnings.warn(warn_msg)\n"
     ]
    }
   ],
   "source": [
    "from sklearn.metrics import classification_report, accuracy_score, f1_score\n",
    "from torch.utils.tensorboard import SummaryWriter\n",
    "from tqdm import tqdm\n",
    "\n",
    "writer = SummaryWriter(log_dir=\"runs/convnext_experiment1\")\n",
    "\n",
    "EPOCHS = 10\n",
    "scaler = amp.GradScaler(\"cuda\")\n",
    "\n",
    "step = 0\n",
    "for epoch in range(1, EPOCHS + 1):\n",
    "    model.train()\n",
    "    \n",
    "    for train, label in tqdm(X_test_dl):\n",
    "        optimz.zero_grad()\n",
    "        train, label = train.to(device), label.to(device)\n",
    "        with amp.autocast(\"cuda\"):\n",
    "            pred = model(train)\n",
    "            loss = criterion(pred, label)\n",
    "        \n",
    "        scaler.scale(loss).backward()\n",
    "        scaler.step(optimz)\n",
    "        scaler.update()\n",
    "        \n",
    "        #텐서 보드 기록\n",
    "        writer.add_scalar(\"Loss/train\", loss.item(), global_step)\n",
    "        global_step += 1\n"
   ]
  },
  {
   "cell_type": "markdown",
   "id": "10e3fc7b",
   "metadata": {},
   "source": [
    "### 6) 모델 평가 및 저장"
   ]
  },
  {
   "cell_type": "code",
   "execution_count": null,
   "id": "35e50581",
   "metadata": {},
   "outputs": [],
   "source": [
    "from datetime import datetime\n",
    "import os\n",
    "\n",
    "y_true, y_pred = [], []\n",
    "model.eval()\n",
    "with torch.no_grad():\n",
    "    for train, label in y_test:\n",
    "        train, label = train.to(device), label.to(device)\n",
    "        pred = model.argmax(1)\n",
    "        \n",
    "        y_true.extend(label.cpu().tolist())\n",
    "        y_pred.extend(pred.cpu().tolist())\n",
    "\n",
    "f1_macro = f1_score(y_true, y_pred, average=\"macro\")   # 클래스별 f1을 평균\n",
    "f1_micro = f1_score(y_true, y_pred, average=\"micro\")   # 전체 샘플 기준 평균\n",
    "f1_weighted = f1_score(y_true, y_pred, average=\"weighted\")  # 클래스 비율 고려\n",
    "\n",
    "print(\"F1(macro):\", f1_macro)\n",
    "print(\"F1(micro):\", f1_micro)\n",
    "print(\"F1(weighted):\", f1_weighted)\n",
    "\n",
    "print(classification_report(y_true, y_pred, target_names=CLASSES, digits=4))\n",
    "\n",
    "timestamp = datetime.now().strftime(\"%Y-%m-%d_%H-%M-%S\")\n",
    "filename = f\"result_{timestamp}\"\n",
    "torch.save(model.state_dict(), f\"model_{filename}.pth\")"
   ]
  }
 ],
 "metadata": {
  "kernelspec": {
   "display_name": "aug-project5",
   "language": "python",
   "name": "python3"
  },
  "language_info": {
   "codemirror_mode": {
    "name": "ipython",
    "version": 3
   },
   "file_extension": ".py",
   "mimetype": "text/x-python",
   "name": "python",
   "nbconvert_exporter": "python",
   "pygments_lexer": "ipython3",
   "version": "3.10.18"
  }
 },
 "nbformat": 4,
 "nbformat_minor": 5
}
