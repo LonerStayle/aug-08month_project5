{
 "cells": [
  {
   "cell_type": "code",
   "execution_count": 4,
   "id": "7c4f87fd",
   "metadata": {},
   "outputs": [
    {
     "name": "stderr",
     "output_type": "stream",
     "text": [
      "c:\\PythonProject\\aug-08month_project5\\.venv\\lib\\site-packages\\torchvision\\models\\_utils.py:135: UserWarning: Using 'weights' as positional parameter(s) is deprecated since 0.13 and may be removed in the future. Please use keyword parameter(s) instead.\n",
      "  warnings.warn(\n"
     ]
    },
    {
     "data": {
      "text/plain": [
       "Linear(in_features=1280, out_features=7, bias=True)"
      ]
     },
     "execution_count": 4,
     "metadata": {},
     "output_type": "execute_result"
    }
   ],
   "source": [
    "\n",
    "\n",
    "import torchvision.models as M\n",
    "import torch.nn as nn\n",
    "model = M.efficientnet_b0(M.EfficientNet_B0_Weights.IMAGENET1K_V1)\n",
    "in_features = model.classifier[1].in_features\n",
    "model.classifier[1] = nn.Linear(in_features, 7) \n",
    "model.classifier[1]\n"
   ]
  },
  {
   "cell_type": "code",
   "execution_count": 2,
   "id": "56bec8c9",
   "metadata": {},
   "outputs": [
    {
     "name": "stdout",
     "output_type": "stream",
     "text": [
      "평균 : 0.6226921126314113\n",
      "표준편차 : 0.3423165454990286\n"
     ]
    }
   ],
   "source": [
    "from pathlib import Path\n",
    "import os\n",
    "from img_preprocess import compute_mean_std\n",
    "\n",
    "if os.name == \"posix\":  # Linux, macOS\n",
    "    ROOT = \"/home/wanted-1/PotenupWorkspace/aug-project5/jin_sup/mel_image\"\n",
    "elif os.name == \"nt\":   # Windows\n",
    "    ROOT = \"C:\\\\PythonProject\\\\aug-08month_project5\\\\jin_sup\\\\mel_image\"\n",
    "\n",
    "all_full_paths = sorted([str(p) for p in Path(ROOT).rglob(\"*.png\")])\n",
    "\n",
    "mean, std = compute_mean_std(all_full_paths)\n",
    "print(f\"평균 : {mean}\")\n",
    "print(f\"표준편차 : {std}\")\n"
   ]
  },
  {
   "cell_type": "code",
   "execution_count": null,
   "id": "90c3e834",
   "metadata": {},
   "outputs": [],
   "source": []
  }
 ],
 "metadata": {
  "kernelspec": {
   "display_name": "aug-08month_project5",
   "language": "python",
   "name": "python3"
  },
  "language_info": {
   "codemirror_mode": {
    "name": "ipython",
    "version": 3
   },
   "file_extension": ".py",
   "mimetype": "text/x-python",
   "name": "python",
   "nbconvert_exporter": "python",
   "pygments_lexer": "ipython3",
   "version": "3.10.18"
  }
 },
 "nbformat": 4,
 "nbformat_minor": 5
}
