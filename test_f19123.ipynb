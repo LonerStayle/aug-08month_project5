{
 "cells": [
  {
   "cell_type": "markdown",
   "id": "791bad01",
   "metadata": {},
   "source": [
    "## 1) 기본 세팅"
   ]
  },
  {
   "cell_type": "code",
   "execution_count": 1,
   "id": "62c774bf",
   "metadata": {},
   "outputs": [],
   "source": [
    "import os\n",
    "import torch, torch.nn as nn\n",
    "from torch.utils.tensorboard import SummaryWriter\n",
    "from torch.utils.data import DataLoader,WeightedRandomSampler\n",
    "from torchvision import datasets, transforms\n",
    "from torchvision.models import densenet121, DenseNet121_Weights\n",
    "import tqdm\n",
    "\n",
    "device = torch.device(\"cuda:0\" if torch.cuda.is_available() else \"cpu\")\n",
    "\n",
    "IMG_SIZE = 512\n",
    "DATA_ROOT = 'chest_xray'\n",
    "BATCH_TRAIN = 16\n",
    "\n",
    "w = DenseNet121_Weights.IMAGENET1K_V1\n"
   ]
  },
  {
   "cell_type": "markdown",
   "id": "94ff37bc",
   "metadata": {},
   "source": [
    "## 2) 데이터 불러오기 및 전처리 "
   ]
  },
  {
   "cell_type": "code",
   "execution_count": 3,
   "id": "7cfd6316",
   "metadata": {},
   "outputs": [],
   "source": [
    "pre = w.transforms()          \n",
    "train_tf = transforms.Compose([\n",
    "transforms.Grayscale(num_output_channels=3),\n",
    "transforms.Resize((IMG_SIZE,IMG_SIZE)),\n",
    "transforms.RandomHorizontalFlip(p = 0.5),\n",
    "transforms.ColorJitter(brightness=0.1,contrast=0.1),\n",
    "transforms.ToTensor(),\n",
    "transforms.Normalize(pre.mean,pre.std)\n",
    "])\n",
    "\n",
    "val_tf = transforms.Compose([\n",
    "    transforms.Grayscale(num_output_channels=3),\n",
    "    transforms.Resize((IMG_SIZE,IMG_SIZE)),\n",
    "    transforms.ToTensor(),\n",
    "    transforms.Normalize(pre.mean,pre.std)\n",
    "])\n",
    "\n",
    "train_ds = datasets.ImageFolder(\"chest_xray/train\", transform=train_tf)\n",
    "val_ds   = datasets.ImageFolder(\"chest_xray/val\",   transform=val_tf)\n",
    "test_ds   = datasets.ImageFolder(\"chest_xray/test\",   transform=val_tf)\n"
   ]
  },
  {
   "cell_type": "markdown",
   "id": "94d173d9",
   "metadata": {},
   "source": [
    "## 3) 클래스 불균형 처리"
   ]
  },
  {
   "cell_type": "markdown",
   "id": "0c1c48a9",
   "metadata": {},
   "source": []
  },
  {
   "cell_type": "code",
   "execution_count": 4,
   "id": "ffa07214",
   "metadata": {},
   "outputs": [],
   "source": [
    "import numpy as np\n",
    "labels = np.array(train_ds.targets)\n",
    "class_counts = np.bincount(labels)\n",
    "class_weights = 1.0/ (class_counts + 1e-6)\n",
    "sample_weights = class_weights[labels]\n",
    "len(sample_weights)\n",
    "sampler = WeightedRandomSampler(sample_weights, num_samples=len(sample_weights), replacement=True)"
   ]
  },
  {
   "cell_type": "markdown",
   "id": "9756bb5b",
   "metadata": {},
   "source": [
    "## 4) 배치용 데이터 분할"
   ]
  },
  {
   "cell_type": "code",
   "execution_count": 5,
   "id": "0d64a5a5",
   "metadata": {},
   "outputs": [],
   "source": [
    "train_dl = DataLoader(train_ds, batch_size=BATCH_TRAIN, sampler = sampler, num_workers=4)\n",
    "val_dl = DataLoader(val_ds, batch_size=BATCH_TRAIN, shuffle=False, num_workers=4)\n",
    "test_dl = DataLoader(test_ds, batch_size=BATCH_TRAIN, shuffle=False, num_workers=4)"
   ]
  },
  {
   "cell_type": "code",
   "execution_count": 118,
   "id": "6a13c50f",
   "metadata": {},
   "outputs": [
    {
     "name": "stderr",
     "output_type": "stream",
     "text": [
      "/home/wanted-1/PotenupWorkspace/aug-project5/.venv/lib/python3.10/site-packages/torchvision/models/_utils.py:135: UserWarning: Using 'weights' as positional parameter(s) is deprecated since 0.13 and may be removed in the future. Please use keyword parameter(s) instead.\n",
      "  warnings.warn(\n"
     ]
    }
   ],
   "source": [
    "model = densenet121(w)\n",
    "model.classifier = nn.Linear(model.classifier.in_features, 2)\n",
    "model.to(device)\n",
    "\n",
    "epochs = 20\n",
    "lr = 1e-3\n",
    "l2 = 1e-5\n",
    "criterion = nn.CrossEntropyLoss()\n",
    "optim = torch.optim.AdamW(model.parameters(),lr = lr, weight_decay=l2)"
   ]
  },
  {
   "cell_type": "markdown",
   "id": "8aaac6f5",
   "metadata": {},
   "source": [
    "## 5) 모델 학습"
   ]
  },
  {
   "cell_type": "code",
   "execution_count": 119,
   "id": "0d89ec89",
   "metadata": {},
   "outputs": [
    {
     "name": "stderr",
     "output_type": "stream",
     "text": [
      "100%|██████████| 326/326 [00:43<00:00,  7.50it/s]\n"
     ]
    },
    {
     "name": "stdout",
     "output_type": "stream",
     "text": [
      "1 loss : 0.06262947618961334\n"
     ]
    },
    {
     "name": "stderr",
     "output_type": "stream",
     "text": [
      "100%|██████████| 326/326 [00:43<00:00,  7.47it/s]\n"
     ]
    },
    {
     "name": "stdout",
     "output_type": "stream",
     "text": [
      "2 loss : 0.028551165014505386\n"
     ]
    },
    {
     "name": "stderr",
     "output_type": "stream",
     "text": [
      "100%|██████████| 326/326 [00:43<00:00,  7.44it/s]\n"
     ]
    },
    {
     "name": "stdout",
     "output_type": "stream",
     "text": [
      "3 loss : 0.4476194381713867\n"
     ]
    },
    {
     "name": "stderr",
     "output_type": "stream",
     "text": [
      "100%|██████████| 326/326 [00:43<00:00,  7.45it/s]\n"
     ]
    },
    {
     "name": "stdout",
     "output_type": "stream",
     "text": [
      "4 loss : 0.012892303988337517\n"
     ]
    },
    {
     "name": "stderr",
     "output_type": "stream",
     "text": [
      "100%|██████████| 326/326 [00:43<00:00,  7.45it/s]\n"
     ]
    },
    {
     "name": "stdout",
     "output_type": "stream",
     "text": [
      "5 loss : 0.01439596340060234\n"
     ]
    },
    {
     "name": "stderr",
     "output_type": "stream",
     "text": [
      "100%|██████████| 326/326 [00:43<00:00,  7.48it/s]\n"
     ]
    },
    {
     "name": "stdout",
     "output_type": "stream",
     "text": [
      "6 loss : 0.01873016357421875\n"
     ]
    },
    {
     "name": "stderr",
     "output_type": "stream",
     "text": [
      "100%|██████████| 326/326 [00:43<00:00,  7.47it/s]\n"
     ]
    },
    {
     "name": "stdout",
     "output_type": "stream",
     "text": [
      "7 loss : 0.028534971177577972\n"
     ]
    },
    {
     "name": "stderr",
     "output_type": "stream",
     "text": [
      "100%|██████████| 326/326 [00:43<00:00,  7.42it/s]\n"
     ]
    },
    {
     "name": "stdout",
     "output_type": "stream",
     "text": [
      "8 loss : 0.005746419541537762\n"
     ]
    },
    {
     "name": "stderr",
     "output_type": "stream",
     "text": [
      "100%|██████████| 326/326 [00:43<00:00,  7.43it/s]\n"
     ]
    },
    {
     "name": "stdout",
     "output_type": "stream",
     "text": [
      "9 loss : 0.6241193413734436\n"
     ]
    },
    {
     "name": "stderr",
     "output_type": "stream",
     "text": [
      "100%|██████████| 326/326 [00:43<00:00,  7.45it/s]\n"
     ]
    },
    {
     "name": "stdout",
     "output_type": "stream",
     "text": [
      "10 loss : 0.0026556539814919233\n"
     ]
    },
    {
     "name": "stderr",
     "output_type": "stream",
     "text": [
      "100%|██████████| 326/326 [00:43<00:00,  7.46it/s]\n"
     ]
    },
    {
     "name": "stdout",
     "output_type": "stream",
     "text": [
      "11 loss : 0.005396376829594374\n"
     ]
    },
    {
     "name": "stderr",
     "output_type": "stream",
     "text": [
      "100%|██████████| 326/326 [00:43<00:00,  7.44it/s]\n"
     ]
    },
    {
     "name": "stdout",
     "output_type": "stream",
     "text": [
      "12 loss : 0.05081372335553169\n"
     ]
    },
    {
     "name": "stderr",
     "output_type": "stream",
     "text": [
      "100%|██████████| 326/326 [00:43<00:00,  7.47it/s]\n"
     ]
    },
    {
     "name": "stdout",
     "output_type": "stream",
     "text": [
      "13 loss : 0.035489197820425034\n"
     ]
    },
    {
     "name": "stderr",
     "output_type": "stream",
     "text": [
      "100%|██████████| 326/326 [00:43<00:00,  7.43it/s]\n"
     ]
    },
    {
     "name": "stdout",
     "output_type": "stream",
     "text": [
      "14 loss : 0.07934334129095078\n"
     ]
    },
    {
     "name": "stderr",
     "output_type": "stream",
     "text": [
      "100%|██████████| 326/326 [00:43<00:00,  7.49it/s]\n"
     ]
    },
    {
     "name": "stdout",
     "output_type": "stream",
     "text": [
      "15 loss : 0.012704821303486824\n"
     ]
    },
    {
     "name": "stderr",
     "output_type": "stream",
     "text": [
      "100%|██████████| 326/326 [00:43<00:00,  7.49it/s]\n"
     ]
    },
    {
     "name": "stdout",
     "output_type": "stream",
     "text": [
      "16 loss : 0.00034952996065840125\n"
     ]
    },
    {
     "name": "stderr",
     "output_type": "stream",
     "text": [
      "100%|██████████| 326/326 [00:43<00:00,  7.45it/s]\n"
     ]
    },
    {
     "name": "stdout",
     "output_type": "stream",
     "text": [
      "17 loss : 0.00923384539783001\n"
     ]
    },
    {
     "name": "stderr",
     "output_type": "stream",
     "text": [
      "100%|██████████| 326/326 [00:43<00:00,  7.46it/s]\n"
     ]
    },
    {
     "name": "stdout",
     "output_type": "stream",
     "text": [
      "18 loss : 0.012179488316178322\n"
     ]
    },
    {
     "name": "stderr",
     "output_type": "stream",
     "text": [
      "100%|██████████| 326/326 [00:43<00:00,  7.46it/s]\n"
     ]
    },
    {
     "name": "stdout",
     "output_type": "stream",
     "text": [
      "19 loss : 0.0008390186703763902\n"
     ]
    },
    {
     "name": "stderr",
     "output_type": "stream",
     "text": [
      "100%|██████████| 326/326 [00:43<00:00,  7.42it/s]"
     ]
    },
    {
     "name": "stdout",
     "output_type": "stream",
     "text": [
      "20 loss : 0.08627404272556305\n"
     ]
    },
    {
     "name": "stderr",
     "output_type": "stream",
     "text": [
      "\n"
     ]
    }
   ],
   "source": [
    "step = 0\n",
    "writer = SummaryWriter()\n",
    "\n",
    "model.train()\n",
    "for epoch in range(epochs):\n",
    "    for data, label in tqdm.tqdm(train_dl):\n",
    "        optim.zero_grad()\n",
    "        data, label = data.to(device), label.to(device)\n",
    "        pred = model(data)\n",
    "        loss = criterion(pred,label)\n",
    "        loss.backward()\n",
    "\n",
    "        writer.add_scalar(\"Loss/train\", loss.item(), step)\n",
    "        step += 1\n",
    "        optim.step()\n",
    "        \n",
    "    print(f\"{epoch + 1} loss : {loss.item()}\")\n",
    "\n",
    "from datetime import datetime\n",
    "now = datetime.now() \n",
    "timestamp = now.strftime(\"%Y-%m-%d_%H-%M-%S\")\n",
    "torch.save(model.state_dict(), f\"model_{timestamp}.pth\")"
   ]
  },
  {
   "cell_type": "markdown",
   "id": "16c39796",
   "metadata": {},
   "source": [
    "## 6) 모델 평가"
   ]
  },
  {
   "cell_type": "code",
   "execution_count": 6,
   "id": "2478e3c9",
   "metadata": {},
   "outputs": [
    {
     "name": "stdout",
     "output_type": "stream",
     "text": [
      "F1 Score: 0.9123222748815166\n"
     ]
    }
   ],
   "source": [
    "from sklearn.metrics import f1_score \n",
    "model = densenet121(w) \n",
    "model.classifier = torch.nn.Linear(model.classifier.in_features, 2) \n",
    "model.load_state_dict(torch.load(\"model_f1_9123.pth\", map_location=device))\n",
    "model.to(device)\n",
    "\n",
    "all_labels = []\n",
    "all_preds = []\n",
    "model.eval()\n",
    "with torch.no_grad(): \n",
    "    for data, label in test_dl: \n",
    "        data, label = data.to(device), label.to(device) \n",
    "        outputs = model(data) \n",
    "        _, predicted = torch.max(outputs, 1) \n",
    "        all_labels.extend(label.cpu().numpy()) \n",
    "        all_preds.extend(predicted.cpu().numpy()) \n",
    "\n",
    "f1 = f1_score(all_labels, all_preds, average='binary') \n",
    "print(f\"F1 Score: {f1}\")"
   ]
  }
 ],
 "metadata": {
  "kernelspec": {
   "display_name": "aug-project5",
   "language": "python",
   "name": "python3"
  },
  "language_info": {
   "codemirror_mode": {
    "name": "ipython",
    "version": 3
   },
   "file_extension": ".py",
   "mimetype": "text/x-python",
   "name": "python",
   "nbconvert_exporter": "python",
   "pygments_lexer": "ipython3",
   "version": "3.10.12"
  }
 },
 "nbformat": 4,
 "nbformat_minor": 5
}
